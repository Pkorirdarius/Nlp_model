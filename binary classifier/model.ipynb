{
 "cells": [
  {
   "cell_type": "code",
   "execution_count": 1,
   "id": "bc52332e",
   "metadata": {},
   "outputs": [],
   "source": [
    "import pandas as pd\n",
    "from sklearn.feature_extraction.text import TfidfVectorizer\n",
    "from sklearn.linear_model import LogisticRegression\n",
    "from sklearn.pipeline import Pipeline\n",
    "from sklearn.model_selection import cross_val_predict\n",
    "from sklearn.metrics import classification_report, confusion_matrix\n",
    "import seaborn as sns\n",
    "import matplotlib.pyplot as plt"
   ]
  },
  {
   "cell_type": "code",
   "execution_count": 2,
   "id": "cd051ac4",
   "metadata": {},
   "outputs": [],
   "source": [
    "# Load the dataset\n",
    "df = pd.read_csv(\"../data/snopes_gmo_articles_cleaned.csv\")\n",
    "\n",
    "# Define binary label mapping\n",
    "label_map = {\n",
    "    'False': 0,\n",
    "    'Mostly False': 0,\n",
    "    'Unproven': 0,\n",
    "    'Outdated': 0,\n",
    "    'True': 1,\n",
    "    'Mostly True': 1\n",
    "}\n",
    "\n",
    "# Filter dataset and create binary labels\n",
    "df_filtered = df[df['Rating'].isin(label_map.keys())].copy()\n",
    "df_filtered['Label'] = df_filtered['Rating'].map(label_map)\n",
    "\n",
    "# Features and target\n",
    "X = df_filtered['Claim']\n",
    "y = df_filtered['Label']\n",
    "\n",
    "# Build the classification pipeline\n",
    "pipeline = Pipeline([\n",
    "    ('tfidf', TfidfVectorizer(stop_words='english')),\n",
    "    ('clf', LogisticRegression(class_weight='balanced', random_state=42))\n",
    "])"
   ]
  },
  {
   "cell_type": "code",
   "execution_count": 3,
   "id": "96feee2c",
   "metadata": {},
   "outputs": [
    {
     "name": "stdout",
     "output_type": "stream",
     "text": [
      "Classification Report:\n",
      "\n",
      "                precision    recall  f1-score   support\n",
      "\n",
      "False/Unproven       0.85      0.98      0.91        42\n",
      "          True       0.00      0.00      0.00         7\n",
      "\n",
      "      accuracy                           0.84        49\n",
      "     macro avg       0.43      0.49      0.46        49\n",
      "  weighted avg       0.73      0.84      0.78        49\n",
      "\n"
     ]
    }
   ],
   "source": [
    "# Cross-validation predictions\n",
    "y_pred = cross_val_predict(pipeline, X, y, cv=5)\n",
    "\n",
    "# Evaluation\n",
    "print(\"Classification Report:\\n\")\n",
    "print(classification_report(y, y_pred, target_names=[\"False/Unproven\", \"True\"]))"
   ]
  },
  {
   "cell_type": "code",
   "execution_count": 4,
   "id": "cebd4063",
   "metadata": {},
   "outputs": [
    {
     "data": {
      "image/png": "[encoded data removed]",
      "text/plain": [
       "<Figure size 640x480 with 2 Axes>"
      ]
     },
     "metadata": {},
     "output_type": "display_data"
    }
   ],
   "source": [
    "# Confusion Matrix\n",
    "cm = confusion_matrix(y, y_pred)\n",
    "sns.heatmap(cm, annot=True, fmt='d', cmap='Blues', xticklabels=[\"False/Unproven\", \"True\"], yticklabels=[\"False/Unproven\", \"True\"])\n",
    "plt.xlabel('Predicted')\n",
    "plt.ylabel('Actual')\n",
    "plt.title('Confusion Matrix')\n",
    "plt.show()"
   ]
  },
  {
   "cell_type": "code",
   "execution_count": null,
   "id": "01f8e68a",
   "metadata": {},
   "outputs": [],
   "source": []
  }
 ],
 "metadata": {
  "kernelspec": {
   "display_name": "Python 3",
   "language": "python",
   "name": "python3"
  },
  "language_info": {
   "codemirror_mode": {
    "name": "ipython",
    "version": 3
   },
   "file_extension": ".py",
   "mimetype": "text/x-python",
   "name": "python",
   "nbconvert_exporter": "python",
   "pygments_lexer": "ipython3",
   "version": "3.13.2"
  }
 },
 "nbformat": 4,
 "nbformat_minor": 5
}
